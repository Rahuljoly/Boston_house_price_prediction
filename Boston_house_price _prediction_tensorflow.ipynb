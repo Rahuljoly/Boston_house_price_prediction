{
  "nbformat": 4,
  "nbformat_minor": 0,
  "metadata": {
    "colab": {
      "name": "linearRegression_tf.ipynb",
      "provenance": []
    },
    "kernelspec": {
      "name": "python3",
      "display_name": "Python 3"
    }
  },
  "cells": [
    {
      "cell_type": "code",
      "metadata": {
        "id": "3Ih2WCl_SrAv"
      },
      "source": [
        "import tensorflow as tf\n",
        "import numpy as np\n",
        "import pandas as pd"
      ],
      "execution_count": null,
      "outputs": []
    },
    {
      "cell_type": "code",
      "metadata": {
        "id": "6bCBUEUuie4c",
        "outputId": "76349b06-1565-4724-a064-5a2631037479",
        "colab": {
          "base_uri": "https://localhost:8080/",
          "height": 423
        }
      },
      "source": [
        "!pip install tensorflow==1.15\n",
        "import tensorflow as tf"
      ],
      "execution_count": null,
      "outputs": [
        {
          "output_type": "stream",
          "text": [
            "Requirement already satisfied: tensorflow==1.15 in /usr/local/lib/python3.6/dist-packages (1.15.0)\n",
            "Requirement already satisfied: numpy<2.0,>=1.16.0 in /usr/local/lib/python3.6/dist-packages (from tensorflow==1.15) (1.18.5)\n",
            "Requirement already satisfied: google-pasta>=0.1.6 in /usr/local/lib/python3.6/dist-packages (from tensorflow==1.15) (0.2.0)\n",
            "Requirement already satisfied: gast==0.2.2 in /usr/local/lib/python3.6/dist-packages (from tensorflow==1.15) (0.2.2)\n",
            "Requirement already satisfied: grpcio>=1.8.6 in /usr/local/lib/python3.6/dist-packages (from tensorflow==1.15) (1.30.0)\n",
            "Requirement already satisfied: termcolor>=1.1.0 in /usr/local/lib/python3.6/dist-packages (from tensorflow==1.15) (1.1.0)\n",
            "Requirement already satisfied: absl-py>=0.7.0 in /usr/local/lib/python3.6/dist-packages (from tensorflow==1.15) (0.9.0)\n",
            "Requirement already satisfied: keras-preprocessing>=1.0.5 in /usr/local/lib/python3.6/dist-packages (from tensorflow==1.15) (1.1.2)\n",
            "Requirement already satisfied: tensorflow-estimator==1.15.1 in /usr/local/lib/python3.6/dist-packages (from tensorflow==1.15) (1.15.1)\n",
            "Requirement already satisfied: wheel>=0.26 in /usr/local/lib/python3.6/dist-packages (from tensorflow==1.15) (0.34.2)\n",
            "Requirement already satisfied: opt-einsum>=2.3.2 in /usr/local/lib/python3.6/dist-packages (from tensorflow==1.15) (3.3.0)\n",
            "Requirement already satisfied: tensorboard<1.16.0,>=1.15.0 in /usr/local/lib/python3.6/dist-packages (from tensorflow==1.15) (1.15.0)\n",
            "Requirement already satisfied: protobuf>=3.6.1 in /usr/local/lib/python3.6/dist-packages (from tensorflow==1.15) (3.12.2)\n",
            "Requirement already satisfied: wrapt>=1.11.1 in /usr/local/lib/python3.6/dist-packages (from tensorflow==1.15) (1.12.1)\n",
            "Requirement already satisfied: six>=1.10.0 in /usr/local/lib/python3.6/dist-packages (from tensorflow==1.15) (1.15.0)\n",
            "Requirement already satisfied: astor>=0.6.0 in /usr/local/lib/python3.6/dist-packages (from tensorflow==1.15) (0.8.1)\n",
            "Requirement already satisfied: keras-applications>=1.0.8 in /usr/local/lib/python3.6/dist-packages (from tensorflow==1.15) (1.0.8)\n",
            "Requirement already satisfied: werkzeug>=0.11.15 in /usr/local/lib/python3.6/dist-packages (from tensorboard<1.16.0,>=1.15.0->tensorflow==1.15) (1.0.1)\n",
            "Requirement already satisfied: setuptools>=41.0.0 in /usr/local/lib/python3.6/dist-packages (from tensorboard<1.16.0,>=1.15.0->tensorflow==1.15) (49.2.0)\n",
            "Requirement already satisfied: markdown>=2.6.8 in /usr/local/lib/python3.6/dist-packages (from tensorboard<1.16.0,>=1.15.0->tensorflow==1.15) (3.2.2)\n",
            "Requirement already satisfied: h5py in /usr/local/lib/python3.6/dist-packages (from keras-applications>=1.0.8->tensorflow==1.15) (2.10.0)\n",
            "Requirement already satisfied: importlib-metadata; python_version < \"3.8\" in /usr/local/lib/python3.6/dist-packages (from markdown>=2.6.8->tensorboard<1.16.0,>=1.15.0->tensorflow==1.15) (1.7.0)\n",
            "Requirement already satisfied: zipp>=0.5 in /usr/local/lib/python3.6/dist-packages (from importlib-metadata; python_version < \"3.8\"->markdown>=2.6.8->tensorboard<1.16.0,>=1.15.0->tensorflow==1.15) (3.1.0)\n"
          ],
          "name": "stdout"
        }
      ]
    },
    {
      "cell_type": "code",
      "metadata": {
        "id": "v9Mcgb_hTK68",
        "outputId": "311fd683-3f6d-43cc-abe7-21eaaa779be2",
        "colab": {
          "base_uri": "https://localhost:8080/",
          "height": 34
        }
      },
      "source": [
        "!git clone https://github.com/Shreyas3108/house-price-prediction"
      ],
      "execution_count": null,
      "outputs": [
        {
          "output_type": "stream",
          "text": [
            "fatal: destination path 'house-price-prediction' already exists and is not an empty directory.\n"
          ],
          "name": "stdout"
        }
      ]
    },
    {
      "cell_type": "code",
      "metadata": {
        "id": "F-nNwjjqTK86"
      },
      "source": [
        "df=pd.read_csv('/content/house-price-prediction/kc_house_data.csv')"
      ],
      "execution_count": null,
      "outputs": []
    },
    {
      "cell_type": "code",
      "metadata": {
        "id": "UY0nZy_nTLAl"
      },
      "source": [
        "df=pd.read_csv('/content/house-price-prediction/kc_house_data.csv')"
      ],
      "execution_count": null,
      "outputs": []
    },
    {
      "cell_type": "code",
      "metadata": {
        "id": "EIW3BsfdTLCh",
        "outputId": "74dc8c60-f7c1-4106-f3c8-353eee447331",
        "colab": {
          "base_uri": "https://localhost:8080/",
          "height": 34
        }
      },
      "source": [
        "df.shape"
      ],
      "execution_count": null,
      "outputs": [
        {
          "output_type": "execute_result",
          "data": {
            "text/plain": [
              "(21613, 21)"
            ]
          },
          "metadata": {
            "tags": []
          },
          "execution_count": 20
        }
      ]
    },
    {
      "cell_type": "code",
      "metadata": {
        "id": "KJkKyrdkTLGd",
        "outputId": "11a1e24a-201a-4b52-efc3-63cf5a1b2652",
        "colab": {
          "base_uri": "https://localhost:8080/",
          "height": 386
        }
      },
      "source": [
        "df.isnull().sum()"
      ],
      "execution_count": null,
      "outputs": [
        {
          "output_type": "execute_result",
          "data": {
            "text/plain": [
              "id               0\n",
              "date             0\n",
              "price            0\n",
              "bedrooms         0\n",
              "bathrooms        0\n",
              "sqft_living      0\n",
              "sqft_lot         0\n",
              "floors           0\n",
              "waterfront       0\n",
              "view             0\n",
              "condition        0\n",
              "grade            0\n",
              "sqft_above       0\n",
              "sqft_basement    0\n",
              "yr_built         0\n",
              "yr_renovated     0\n",
              "zipcode          0\n",
              "lat              0\n",
              "long             0\n",
              "sqft_living15    0\n",
              "sqft_lot15       0\n",
              "dtype: int64"
            ]
          },
          "metadata": {
            "tags": []
          },
          "execution_count": 21
        }
      ]
    },
    {
      "cell_type": "code",
      "metadata": {
        "id": "yImctBAKUWey"
      },
      "source": [
        "df=df[df['floors']<=2.0]"
      ],
      "execution_count": null,
      "outputs": []
    },
    {
      "cell_type": "code",
      "metadata": {
        "id": "mDkhzPeJUWgr",
        "outputId": "b73604fa-4be5-4724-a868-73ba47425001",
        "colab": {
          "base_uri": "https://localhost:8080/",
          "height": 402
        }
      },
      "source": [
        "df=df[['floors','sqft_living','price']]\n",
        "df"
      ],
      "execution_count": null,
      "outputs": [
        {
          "output_type": "execute_result",
          "data": {
            "text/html": [
              "<div>\n",
              "<style scoped>\n",
              "    .dataframe tbody tr th:only-of-type {\n",
              "        vertical-align: middle;\n",
              "    }\n",
              "\n",
              "    .dataframe tbody tr th {\n",
              "        vertical-align: top;\n",
              "    }\n",
              "\n",
              "    .dataframe thead th {\n",
              "        text-align: right;\n",
              "    }\n",
              "</style>\n",
              "<table border=\"1\" class=\"dataframe\">\n",
              "  <thead>\n",
              "    <tr style=\"text-align: right;\">\n",
              "      <th></th>\n",
              "      <th>floors</th>\n",
              "      <th>sqft_living</th>\n",
              "      <th>price</th>\n",
              "    </tr>\n",
              "  </thead>\n",
              "  <tbody>\n",
              "    <tr>\n",
              "      <th>0</th>\n",
              "      <td>1.0</td>\n",
              "      <td>1180</td>\n",
              "      <td>221900.0</td>\n",
              "    </tr>\n",
              "    <tr>\n",
              "      <th>1</th>\n",
              "      <td>2.0</td>\n",
              "      <td>2570</td>\n",
              "      <td>538000.0</td>\n",
              "    </tr>\n",
              "    <tr>\n",
              "      <th>2</th>\n",
              "      <td>1.0</td>\n",
              "      <td>770</td>\n",
              "      <td>180000.0</td>\n",
              "    </tr>\n",
              "    <tr>\n",
              "      <th>3</th>\n",
              "      <td>1.0</td>\n",
              "      <td>1960</td>\n",
              "      <td>604000.0</td>\n",
              "    </tr>\n",
              "    <tr>\n",
              "      <th>4</th>\n",
              "      <td>1.0</td>\n",
              "      <td>1680</td>\n",
              "      <td>510000.0</td>\n",
              "    </tr>\n",
              "    <tr>\n",
              "      <th>...</th>\n",
              "      <td>...</td>\n",
              "      <td>...</td>\n",
              "      <td>...</td>\n",
              "    </tr>\n",
              "    <tr>\n",
              "      <th>21607</th>\n",
              "      <td>2.0</td>\n",
              "      <td>1310</td>\n",
              "      <td>475000.0</td>\n",
              "    </tr>\n",
              "    <tr>\n",
              "      <th>21609</th>\n",
              "      <td>2.0</td>\n",
              "      <td>2310</td>\n",
              "      <td>400000.0</td>\n",
              "    </tr>\n",
              "    <tr>\n",
              "      <th>21610</th>\n",
              "      <td>2.0</td>\n",
              "      <td>1020</td>\n",
              "      <td>402101.0</td>\n",
              "    </tr>\n",
              "    <tr>\n",
              "      <th>21611</th>\n",
              "      <td>2.0</td>\n",
              "      <td>1600</td>\n",
              "      <td>400000.0</td>\n",
              "    </tr>\n",
              "    <tr>\n",
              "      <th>21612</th>\n",
              "      <td>2.0</td>\n",
              "      <td>1020</td>\n",
              "      <td>325000.0</td>\n",
              "    </tr>\n",
              "  </tbody>\n",
              "</table>\n",
              "<p>20831 rows × 3 columns</p>\n",
              "</div>"
            ],
            "text/plain": [
              "       floors  sqft_living     price\n",
              "0         1.0         1180  221900.0\n",
              "1         2.0         2570  538000.0\n",
              "2         1.0          770  180000.0\n",
              "3         1.0         1960  604000.0\n",
              "4         1.0         1680  510000.0\n",
              "...       ...          ...       ...\n",
              "21607     2.0         1310  475000.0\n",
              "21609     2.0         2310  400000.0\n",
              "21610     2.0         1020  402101.0\n",
              "21611     2.0         1600  400000.0\n",
              "21612     2.0         1020  325000.0\n",
              "\n",
              "[20831 rows x 3 columns]"
            ]
          },
          "metadata": {
            "tags": []
          },
          "execution_count": 23
        }
      ]
    },
    {
      "cell_type": "code",
      "metadata": {
        "id": "56nksO6pUWkh",
        "outputId": "1ae2adaf-5e41-491b-bbf1-e934b4851940",
        "colab": {
          "base_uri": "https://localhost:8080/",
          "height": 1000
        }
      },
      "source": [
        "def pandas_input_fn(df):\n",
        "  return tf.estimator.inputs.pandas_input_fn(\n",
        "      x=df,\n",
        "      y=df['price'],\n",
        "      batch_size=128,shuffle=True,num_epochs=100\n",
        "  )\n",
        "feature_col=[\n",
        "             tf.feature_column.numeric_column('sqft_living'),#numeric column\n",
        "             tf.feature_column.numeric_column('floors')#categorical column one hot enhoted\n",
        "            ]\n",
        "model=tf.estimator.LinearRegressor(feature_col,\"outdir\")\n",
        "model.train(pandas_input_fn(df))"
      ],
      "execution_count": null,
      "outputs": [
        {
          "output_type": "stream",
          "text": [
            "INFO:tensorflow:Using default config.\n",
            "INFO:tensorflow:Using config: {'_model_dir': 'outdir', '_tf_random_seed': None, '_save_summary_steps': 100, '_save_checkpoints_steps': None, '_save_checkpoints_secs': 600, '_session_config': allow_soft_placement: true\n",
            "graph_options {\n",
            "  rewrite_options {\n",
            "    meta_optimizer_iterations: ONE\n",
            "  }\n",
            "}\n",
            ", '_keep_checkpoint_max': 5, '_keep_checkpoint_every_n_hours': 10000, '_log_step_count_steps': 100, '_train_distribute': None, '_device_fn': None, '_protocol': None, '_eval_distribute': None, '_experimental_distribute': None, '_experimental_max_worker_delay_secs': None, '_session_creation_timeout_secs': 7200, '_service': None, '_cluster_spec': <tensorflow.python.training.server_lib.ClusterSpec object at 0x7fab7d27d208>, '_task_type': 'worker', '_task_id': 0, '_global_id_in_cluster': 0, '_master': '', '_evaluation_master': '', '_is_chief': True, '_num_ps_replicas': 0, '_num_worker_replicas': 1}\n",
            "INFO:tensorflow:Calling model_fn.\n",
            "INFO:tensorflow:Done calling model_fn.\n",
            "INFO:tensorflow:Create CheckpointSaverHook.\n",
            "INFO:tensorflow:Graph was finalized.\n",
            "INFO:tensorflow:Restoring parameters from outdir/model.ckpt-16275\n",
            "WARNING:tensorflow:From /usr/local/lib/python3.6/dist-packages/tensorflow_core/python/training/saver.py:1069: get_checkpoint_mtimes (from tensorflow.python.training.checkpoint_management) is deprecated and will be removed in a future version.\n",
            "Instructions for updating:\n",
            "Use standard file utilities to get mtimes.\n",
            "INFO:tensorflow:Running local_init_op.\n",
            "INFO:tensorflow:Done running local_init_op.\n",
            "INFO:tensorflow:Saving checkpoints for 16275 into outdir/model.ckpt.\n",
            "INFO:tensorflow:loss = 29252950000000.0, step = 16276\n",
            "INFO:tensorflow:global_step/sec: 376.383\n",
            "INFO:tensorflow:loss = 50606000000000.0, step = 16376 (0.272 sec)\n",
            "INFO:tensorflow:global_step/sec: 428.923\n",
            "INFO:tensorflow:loss = 53942500000000.0, step = 16476 (0.230 sec)\n",
            "INFO:tensorflow:global_step/sec: 396.139\n",
            "INFO:tensorflow:loss = 32254999000000.0, step = 16576 (0.253 sec)\n",
            "INFO:tensorflow:global_step/sec: 396.876\n",
            "INFO:tensorflow:loss = 32423211000000.0, step = 16676 (0.253 sec)\n",
            "INFO:tensorflow:global_step/sec: 388.483\n",
            "INFO:tensorflow:loss = 33774310000000.0, step = 16776 (0.256 sec)\n",
            "INFO:tensorflow:global_step/sec: 393.384\n",
            "INFO:tensorflow:loss = 38411486000000.0, step = 16876 (0.255 sec)\n",
            "INFO:tensorflow:global_step/sec: 433.361\n",
            "INFO:tensorflow:loss = 35577135000000.0, step = 16976 (0.232 sec)\n",
            "INFO:tensorflow:global_step/sec: 337.442\n",
            "INFO:tensorflow:loss = 37493910000000.0, step = 17076 (0.295 sec)\n",
            "INFO:tensorflow:global_step/sec: 414.101\n",
            "INFO:tensorflow:loss = 40597298000000.0, step = 17176 (0.245 sec)\n",
            "INFO:tensorflow:global_step/sec: 378.028\n",
            "INFO:tensorflow:loss = 37540380000000.0, step = 17276 (0.262 sec)\n",
            "INFO:tensorflow:global_step/sec: 358.473\n",
            "INFO:tensorflow:loss = 30703733000000.0, step = 17376 (0.277 sec)\n",
            "INFO:tensorflow:global_step/sec: 424.997\n",
            "INFO:tensorflow:loss = 40482880000000.0, step = 17476 (0.238 sec)\n",
            "INFO:tensorflow:global_step/sec: 382.232\n",
            "INFO:tensorflow:loss = 44255976000000.0, step = 17576 (0.259 sec)\n",
            "INFO:tensorflow:global_step/sec: 429.469\n",
            "INFO:tensorflow:loss = 42945835000000.0, step = 17676 (0.235 sec)\n",
            "INFO:tensorflow:global_step/sec: 405.768\n",
            "INFO:tensorflow:loss = 51437996000000.0, step = 17776 (0.243 sec)\n",
            "INFO:tensorflow:global_step/sec: 416.117\n",
            "INFO:tensorflow:loss = 30002230000000.0, step = 17876 (0.239 sec)\n",
            "INFO:tensorflow:global_step/sec: 409.778\n",
            "INFO:tensorflow:loss = 32875682000000.0, step = 17976 (0.251 sec)\n",
            "INFO:tensorflow:global_step/sec: 371.071\n",
            "INFO:tensorflow:loss = 26222143000000.0, step = 18076 (0.262 sec)\n",
            "INFO:tensorflow:global_step/sec: 388.584\n",
            "INFO:tensorflow:loss = 32121836000000.0, step = 18176 (0.259 sec)\n",
            "INFO:tensorflow:global_step/sec: 377.295\n",
            "INFO:tensorflow:loss = 32798834000000.0, step = 18276 (0.271 sec)\n",
            "INFO:tensorflow:global_step/sec: 429.593\n",
            "INFO:tensorflow:loss = 56349887000000.0, step = 18376 (0.227 sec)\n",
            "INFO:tensorflow:global_step/sec: 375.157\n",
            "INFO:tensorflow:loss = 34614922000000.0, step = 18476 (0.269 sec)\n",
            "INFO:tensorflow:global_step/sec: 425.191\n",
            "INFO:tensorflow:loss = 38272953000000.0, step = 18576 (0.232 sec)\n",
            "INFO:tensorflow:global_step/sec: 450.965\n",
            "INFO:tensorflow:loss = 26371563000000.0, step = 18676 (0.225 sec)\n",
            "INFO:tensorflow:global_step/sec: 452.381\n",
            "INFO:tensorflow:loss = 36350790000000.0, step = 18776 (0.224 sec)\n",
            "INFO:tensorflow:global_step/sec: 388.858\n",
            "INFO:tensorflow:loss = 38828975000000.0, step = 18876 (0.254 sec)\n",
            "INFO:tensorflow:global_step/sec: 412.002\n",
            "INFO:tensorflow:loss = 31211351000000.0, step = 18976 (0.240 sec)\n",
            "INFO:tensorflow:global_step/sec: 399.19\n",
            "INFO:tensorflow:loss = 58850650000000.0, step = 19076 (0.252 sec)\n",
            "INFO:tensorflow:global_step/sec: 422.333\n",
            "INFO:tensorflow:loss = 25978500000000.0, step = 19176 (0.241 sec)\n",
            "INFO:tensorflow:global_step/sec: 422.583\n",
            "INFO:tensorflow:loss = 35561054000000.0, step = 19276 (0.235 sec)\n",
            "INFO:tensorflow:global_step/sec: 437.359\n",
            "INFO:tensorflow:loss = 27613802000000.0, step = 19376 (0.226 sec)\n",
            "INFO:tensorflow:global_step/sec: 432.172\n",
            "INFO:tensorflow:loss = 28236858000000.0, step = 19476 (0.236 sec)\n",
            "INFO:tensorflow:global_step/sec: 381.875\n",
            "INFO:tensorflow:loss = 32560512000000.0, step = 19576 (0.257 sec)\n",
            "INFO:tensorflow:global_step/sec: 413.096\n",
            "INFO:tensorflow:loss = 26653326000000.0, step = 19676 (0.240 sec)\n",
            "INFO:tensorflow:global_step/sec: 429.047\n",
            "INFO:tensorflow:loss = 37199265000000.0, step = 19776 (0.238 sec)\n",
            "INFO:tensorflow:global_step/sec: 391.354\n",
            "INFO:tensorflow:loss = 32435794000000.0, step = 19876 (0.252 sec)\n",
            "INFO:tensorflow:global_step/sec: 363.918\n",
            "INFO:tensorflow:loss = 35633037000000.0, step = 19976 (0.274 sec)\n",
            "INFO:tensorflow:global_step/sec: 401.829\n",
            "INFO:tensorflow:loss = 36272593000000.0, step = 20076 (0.249 sec)\n",
            "INFO:tensorflow:global_step/sec: 375.383\n",
            "INFO:tensorflow:loss = 29356282000000.0, step = 20176 (0.271 sec)\n",
            "INFO:tensorflow:global_step/sec: 426.075\n",
            "INFO:tensorflow:loss = 34089927000000.0, step = 20276 (0.233 sec)\n",
            "INFO:tensorflow:global_step/sec: 363.928\n",
            "INFO:tensorflow:loss = 42382125000000.0, step = 20376 (0.271 sec)\n",
            "INFO:tensorflow:global_step/sec: 392.977\n",
            "INFO:tensorflow:loss = 33264864000000.0, step = 20476 (0.259 sec)\n",
            "INFO:tensorflow:global_step/sec: 396.622\n",
            "INFO:tensorflow:loss = 58701013000000.0, step = 20576 (0.252 sec)\n",
            "INFO:tensorflow:global_step/sec: 446.893\n",
            "INFO:tensorflow:loss = 35608743000000.0, step = 20676 (0.221 sec)\n",
            "INFO:tensorflow:global_step/sec: 386.021\n",
            "INFO:tensorflow:loss = 32400006000000.0, step = 20776 (0.258 sec)\n",
            "INFO:tensorflow:global_step/sec: 410.268\n",
            "INFO:tensorflow:loss = 48523830000000.0, step = 20876 (0.243 sec)\n",
            "INFO:tensorflow:global_step/sec: 447.57\n",
            "INFO:tensorflow:loss = 39195125000000.0, step = 20976 (0.222 sec)\n",
            "INFO:tensorflow:global_step/sec: 382.303\n",
            "INFO:tensorflow:loss = 33565460000000.0, step = 21076 (0.268 sec)\n",
            "INFO:tensorflow:global_step/sec: 403.862\n",
            "INFO:tensorflow:loss = 47559580000000.0, step = 21176 (0.242 sec)\n",
            "INFO:tensorflow:global_step/sec: 437.958\n",
            "INFO:tensorflow:loss = 29417650000000.0, step = 21276 (0.227 sec)\n",
            "INFO:tensorflow:global_step/sec: 352.775\n",
            "INFO:tensorflow:loss = 35064900000000.0, step = 21376 (0.284 sec)\n",
            "INFO:tensorflow:global_step/sec: 416.855\n",
            "INFO:tensorflow:loss = 39163980000000.0, step = 21476 (0.241 sec)\n",
            "INFO:tensorflow:global_step/sec: 376.772\n",
            "INFO:tensorflow:loss = 33128385000000.0, step = 21576 (0.264 sec)\n",
            "INFO:tensorflow:global_step/sec: 445.702\n",
            "INFO:tensorflow:loss = 47013780000000.0, step = 21676 (0.231 sec)\n",
            "INFO:tensorflow:global_step/sec: 418.867\n",
            "INFO:tensorflow:loss = 29456144000000.0, step = 21776 (0.235 sec)\n",
            "INFO:tensorflow:global_step/sec: 427.041\n",
            "INFO:tensorflow:loss = 27817719000000.0, step = 21876 (0.237 sec)\n",
            "INFO:tensorflow:global_step/sec: 388.268\n",
            "INFO:tensorflow:loss = 30838771000000.0, step = 21976 (0.257 sec)\n",
            "INFO:tensorflow:global_step/sec: 432.938\n",
            "INFO:tensorflow:loss = 69898670000000.0, step = 22076 (0.236 sec)\n",
            "INFO:tensorflow:global_step/sec: 385.792\n",
            "INFO:tensorflow:loss = 25310876000000.0, step = 22176 (0.255 sec)\n",
            "INFO:tensorflow:global_step/sec: 377.016\n",
            "INFO:tensorflow:loss = 31765087000000.0, step = 22276 (0.263 sec)\n",
            "INFO:tensorflow:global_step/sec: 404.344\n",
            "INFO:tensorflow:loss = 30299732000000.0, step = 22376 (0.246 sec)\n",
            "INFO:tensorflow:global_step/sec: 427.96\n",
            "INFO:tensorflow:loss = 31571717000000.0, step = 22476 (0.239 sec)\n",
            "INFO:tensorflow:global_step/sec: 392.789\n",
            "INFO:tensorflow:loss = 35767290000000.0, step = 22576 (0.252 sec)\n",
            "INFO:tensorflow:global_step/sec: 389.112\n",
            "INFO:tensorflow:loss = 52054140000000.0, step = 22676 (0.257 sec)\n",
            "INFO:tensorflow:global_step/sec: 399.503\n",
            "INFO:tensorflow:loss = 34765349000000.0, step = 22776 (0.253 sec)\n",
            "INFO:tensorflow:global_step/sec: 380.371\n",
            "INFO:tensorflow:loss = 51965010000000.0, step = 22876 (0.261 sec)\n",
            "INFO:tensorflow:global_step/sec: 377.843\n",
            "INFO:tensorflow:loss = 45186453000000.0, step = 22976 (0.262 sec)\n",
            "INFO:tensorflow:global_step/sec: 406.731\n",
            "INFO:tensorflow:loss = 52913120000000.0, step = 23076 (0.250 sec)\n",
            "INFO:tensorflow:global_step/sec: 395.595\n",
            "INFO:tensorflow:loss = 83814200000000.0, step = 23176 (0.250 sec)\n",
            "INFO:tensorflow:global_step/sec: 408.886\n",
            "INFO:tensorflow:loss = 31969610000000.0, step = 23276 (0.249 sec)\n",
            "INFO:tensorflow:global_step/sec: 388.85\n",
            "INFO:tensorflow:loss = 32207459000000.0, step = 23376 (0.252 sec)\n",
            "INFO:tensorflow:global_step/sec: 387.897\n",
            "INFO:tensorflow:loss = 31046700000000.0, step = 23476 (0.259 sec)\n",
            "INFO:tensorflow:global_step/sec: 331.343\n",
            "INFO:tensorflow:loss = 36500813000000.0, step = 23576 (0.303 sec)\n",
            "INFO:tensorflow:global_step/sec: 323.403\n",
            "INFO:tensorflow:loss = 34754097000000.0, step = 23676 (0.312 sec)\n",
            "INFO:tensorflow:global_step/sec: 348.613\n",
            "INFO:tensorflow:loss = 43059274000000.0, step = 23776 (0.287 sec)\n",
            "INFO:tensorflow:global_step/sec: 383.495\n",
            "INFO:tensorflow:loss = 42118706000000.0, step = 23876 (0.258 sec)\n",
            "INFO:tensorflow:global_step/sec: 343.444\n",
            "INFO:tensorflow:loss = 33807795000000.0, step = 23976 (0.295 sec)\n",
            "INFO:tensorflow:global_step/sec: 327.741\n",
            "INFO:tensorflow:loss = 41600170000000.0, step = 24076 (0.303 sec)\n",
            "INFO:tensorflow:global_step/sec: 373.66\n",
            "INFO:tensorflow:loss = 34837950000000.0, step = 24176 (0.268 sec)\n",
            "INFO:tensorflow:global_step/sec: 368.806\n",
            "INFO:tensorflow:loss = 49967696000000.0, step = 24276 (0.269 sec)\n",
            "INFO:tensorflow:global_step/sec: 387.928\n",
            "INFO:tensorflow:loss = 30240747000000.0, step = 24376 (0.255 sec)\n",
            "INFO:tensorflow:global_step/sec: 368.051\n",
            "INFO:tensorflow:loss = 27580816000000.0, step = 24476 (0.276 sec)\n",
            "INFO:tensorflow:global_step/sec: 356.169\n",
            "INFO:tensorflow:loss = 31389221000000.0, step = 24576 (0.279 sec)\n",
            "INFO:tensorflow:global_step/sec: 365.369\n",
            "INFO:tensorflow:loss = 38524960000000.0, step = 24676 (0.269 sec)\n",
            "INFO:tensorflow:global_step/sec: 381.187\n",
            "INFO:tensorflow:loss = 34392051000000.0, step = 24776 (0.269 sec)\n",
            "INFO:tensorflow:global_step/sec: 379.032\n",
            "INFO:tensorflow:loss = 24318365000000.0, step = 24876 (0.269 sec)\n",
            "INFO:tensorflow:global_step/sec: 357.987\n",
            "INFO:tensorflow:loss = 26648978000000.0, step = 24976 (0.274 sec)\n",
            "INFO:tensorflow:global_step/sec: 370.002\n",
            "INFO:tensorflow:loss = 36052924000000.0, step = 25076 (0.273 sec)\n",
            "INFO:tensorflow:global_step/sec: 400.629\n",
            "INFO:tensorflow:loss = 27802200000000.0, step = 25176 (0.247 sec)\n",
            "INFO:tensorflow:global_step/sec: 385.994\n",
            "INFO:tensorflow:loss = 26916675000000.0, step = 25276 (0.257 sec)\n",
            "INFO:tensorflow:global_step/sec: 424.124\n",
            "INFO:tensorflow:loss = 32831437000000.0, step = 25376 (0.234 sec)\n",
            "INFO:tensorflow:global_step/sec: 364.241\n",
            "INFO:tensorflow:loss = 27551330000000.0, step = 25476 (0.273 sec)\n",
            "INFO:tensorflow:global_step/sec: 349.935\n",
            "INFO:tensorflow:loss = 42620460000000.0, step = 25576 (0.289 sec)\n",
            "INFO:tensorflow:global_step/sec: 441.32\n",
            "INFO:tensorflow:loss = 48275684000000.0, step = 25676 (0.224 sec)\n",
            "INFO:tensorflow:global_step/sec: 389.157\n",
            "INFO:tensorflow:loss = 35916484000000.0, step = 25776 (0.264 sec)\n",
            "INFO:tensorflow:global_step/sec: 409.375\n",
            "INFO:tensorflow:loss = 32564885000000.0, step = 25876 (0.236 sec)\n",
            "INFO:tensorflow:global_step/sec: 455.778\n",
            "INFO:tensorflow:loss = 46212514000000.0, step = 25976 (0.224 sec)\n",
            "INFO:tensorflow:global_step/sec: 402.007\n",
            "INFO:tensorflow:loss = 27092754000000.0, step = 26076 (0.243 sec)\n",
            "INFO:tensorflow:global_step/sec: 426.387\n",
            "INFO:tensorflow:loss = 31018120000000.0, step = 26176 (0.238 sec)\n",
            "INFO:tensorflow:global_step/sec: 397.755\n",
            "INFO:tensorflow:loss = 32992769000000.0, step = 26276 (0.252 sec)\n",
            "INFO:tensorflow:global_step/sec: 387.689\n",
            "INFO:tensorflow:loss = 44734806000000.0, step = 26376 (0.254 sec)\n",
            "INFO:tensorflow:global_step/sec: 454.303\n",
            "INFO:tensorflow:loss = 33461956000000.0, step = 26476 (0.224 sec)\n",
            "INFO:tensorflow:global_step/sec: 391.512\n",
            "INFO:tensorflow:loss = 52179402000000.0, step = 26576 (0.250 sec)\n",
            "INFO:tensorflow:global_step/sec: 409.811\n",
            "INFO:tensorflow:loss = 41763843000000.0, step = 26676 (0.250 sec)\n",
            "INFO:tensorflow:global_step/sec: 404.23\n",
            "INFO:tensorflow:loss = 27731908000000.0, step = 26776 (0.244 sec)\n",
            "INFO:tensorflow:global_step/sec: 417.503\n",
            "INFO:tensorflow:loss = 47382935000000.0, step = 26876 (0.239 sec)\n",
            "INFO:tensorflow:global_step/sec: 366.433\n",
            "INFO:tensorflow:loss = 28964290000000.0, step = 26976 (0.275 sec)\n",
            "INFO:tensorflow:global_step/sec: 398.421\n",
            "INFO:tensorflow:loss = 22225378000000.0, step = 27076 (0.251 sec)\n",
            "INFO:tensorflow:global_step/sec: 407.633\n",
            "INFO:tensorflow:loss = 26514028000000.0, step = 27176 (0.241 sec)\n",
            "INFO:tensorflow:global_step/sec: 428.578\n",
            "INFO:tensorflow:loss = 23036648000000.0, step = 27276 (0.234 sec)\n",
            "INFO:tensorflow:global_step/sec: 381.67\n",
            "INFO:tensorflow:loss = 49870870000000.0, step = 27376 (0.265 sec)\n",
            "INFO:tensorflow:global_step/sec: 400.352\n",
            "INFO:tensorflow:loss = 30384505000000.0, step = 27476 (0.249 sec)\n",
            "INFO:tensorflow:global_step/sec: 398.29\n",
            "INFO:tensorflow:loss = 25702040000000.0, step = 27576 (0.248 sec)\n",
            "INFO:tensorflow:global_step/sec: 451.713\n",
            "INFO:tensorflow:loss = 34301305000000.0, step = 27676 (0.222 sec)\n",
            "INFO:tensorflow:global_step/sec: 394.806\n",
            "INFO:tensorflow:loss = 71855270000000.0, step = 27776 (0.255 sec)\n",
            "INFO:tensorflow:global_step/sec: 392.921\n",
            "INFO:tensorflow:loss = 27367074000000.0, step = 27876 (0.256 sec)\n",
            "INFO:tensorflow:global_step/sec: 376.945\n",
            "INFO:tensorflow:loss = 28878000000000.0, step = 27976 (0.264 sec)\n",
            "INFO:tensorflow:global_step/sec: 392.218\n",
            "INFO:tensorflow:loss = 83124680000000.0, step = 28076 (0.253 sec)\n",
            "INFO:tensorflow:global_step/sec: 385.323\n",
            "INFO:tensorflow:loss = 34128800000000.0, step = 28176 (0.262 sec)\n",
            "INFO:tensorflow:global_step/sec: 426.094\n",
            "INFO:tensorflow:loss = 37438924000000.0, step = 28276 (0.234 sec)\n",
            "INFO:tensorflow:global_step/sec: 385.07\n",
            "INFO:tensorflow:loss = 23166236000000.0, step = 28376 (0.259 sec)\n",
            "INFO:tensorflow:global_step/sec: 405.704\n",
            "INFO:tensorflow:loss = 33346150000000.0, step = 28476 (0.248 sec)\n",
            "INFO:tensorflow:global_step/sec: 430.858\n",
            "INFO:tensorflow:loss = 37008764000000.0, step = 28576 (0.232 sec)\n",
            "INFO:tensorflow:global_step/sec: 432.36\n",
            "INFO:tensorflow:loss = 34657557000000.0, step = 28676 (0.231 sec)\n",
            "INFO:tensorflow:global_step/sec: 438.64\n",
            "INFO:tensorflow:loss = 29415552000000.0, step = 28776 (0.227 sec)\n",
            "INFO:tensorflow:global_step/sec: 418.925\n",
            "INFO:tensorflow:loss = 32468762000000.0, step = 28876 (0.247 sec)\n",
            "INFO:tensorflow:global_step/sec: 415.326\n",
            "INFO:tensorflow:loss = 36122638000000.0, step = 28976 (0.238 sec)\n",
            "INFO:tensorflow:global_step/sec: 417.673\n",
            "INFO:tensorflow:loss = 29938384000000.0, step = 29076 (0.239 sec)\n",
            "INFO:tensorflow:global_step/sec: 411.754\n",
            "INFO:tensorflow:loss = 21479373000000.0, step = 29176 (0.241 sec)\n",
            "INFO:tensorflow:global_step/sec: 396.364\n",
            "INFO:tensorflow:loss = 23865267000000.0, step = 29276 (0.254 sec)\n",
            "INFO:tensorflow:global_step/sec: 398.755\n",
            "INFO:tensorflow:loss = 31364259000000.0, step = 29376 (0.247 sec)\n",
            "INFO:tensorflow:global_step/sec: 363.962\n",
            "INFO:tensorflow:loss = 30812740000000.0, step = 29476 (0.273 sec)\n",
            "INFO:tensorflow:global_step/sec: 405.84\n",
            "INFO:tensorflow:loss = 21355095000000.0, step = 29576 (0.250 sec)\n",
            "INFO:tensorflow:global_step/sec: 410.345\n",
            "INFO:tensorflow:loss = 22478953000000.0, step = 29676 (0.241 sec)\n",
            "INFO:tensorflow:global_step/sec: 435.924\n",
            "INFO:tensorflow:loss = 38058703000000.0, step = 29776 (0.230 sec)\n",
            "INFO:tensorflow:global_step/sec: 374.768\n",
            "INFO:tensorflow:loss = 28917688000000.0, step = 29876 (0.266 sec)\n",
            "INFO:tensorflow:global_step/sec: 353.277\n",
            "INFO:tensorflow:loss = 30989900000000.0, step = 29976 (0.287 sec)\n",
            "INFO:tensorflow:global_step/sec: 408.31\n",
            "INFO:tensorflow:loss = 42215190000000.0, step = 30076 (0.240 sec)\n",
            "INFO:tensorflow:global_step/sec: 377.039\n",
            "INFO:tensorflow:loss = 46700715000000.0, step = 30176 (0.270 sec)\n",
            "INFO:tensorflow:global_step/sec: 348.923\n",
            "INFO:tensorflow:loss = 32682134000000.0, step = 30276 (0.285 sec)\n",
            "INFO:tensorflow:global_step/sec: 374.764\n",
            "INFO:tensorflow:loss = 29068607000000.0, step = 30376 (0.270 sec)\n",
            "INFO:tensorflow:global_step/sec: 450.235\n",
            "INFO:tensorflow:loss = 28543860000000.0, step = 30476 (0.218 sec)\n",
            "INFO:tensorflow:global_step/sec: 386.934\n",
            "INFO:tensorflow:loss = 37662744000000.0, step = 30576 (0.263 sec)\n",
            "INFO:tensorflow:global_step/sec: 394.933\n",
            "INFO:tensorflow:loss = 31641700000000.0, step = 30676 (0.250 sec)\n",
            "INFO:tensorflow:global_step/sec: 421.113\n",
            "INFO:tensorflow:loss = 25136659000000.0, step = 30776 (0.240 sec)\n",
            "INFO:tensorflow:global_step/sec: 422.431\n",
            "INFO:tensorflow:loss = 41025653000000.0, step = 30876 (0.238 sec)\n",
            "INFO:tensorflow:global_step/sec: 416.512\n",
            "INFO:tensorflow:loss = 44561175000000.0, step = 30976 (0.235 sec)\n",
            "INFO:tensorflow:global_step/sec: 395.093\n",
            "INFO:tensorflow:loss = 35582835000000.0, step = 31076 (0.256 sec)\n",
            "INFO:tensorflow:global_step/sec: 378.706\n",
            "INFO:tensorflow:loss = 24985980000000.0, step = 31176 (0.260 sec)\n",
            "INFO:tensorflow:global_step/sec: 415.932\n",
            "INFO:tensorflow:loss = 25498286000000.0, step = 31276 (0.242 sec)\n",
            "INFO:tensorflow:global_step/sec: 403.633\n",
            "INFO:tensorflow:loss = 41389014000000.0, step = 31376 (0.251 sec)\n",
            "INFO:tensorflow:global_step/sec: 371.054\n",
            "INFO:tensorflow:loss = 53116867000000.0, step = 31476 (0.268 sec)\n",
            "INFO:tensorflow:global_step/sec: 403.807\n",
            "INFO:tensorflow:loss = 24946780000000.0, step = 31576 (0.246 sec)\n",
            "INFO:tensorflow:global_step/sec: 417.68\n",
            "INFO:tensorflow:loss = 28226995000000.0, step = 31676 (0.239 sec)\n",
            "INFO:tensorflow:global_step/sec: 390.858\n",
            "INFO:tensorflow:loss = 28695532000000.0, step = 31776 (0.260 sec)\n",
            "INFO:tensorflow:global_step/sec: 440.335\n",
            "INFO:tensorflow:loss = 22764002000000.0, step = 31876 (0.225 sec)\n",
            "INFO:tensorflow:global_step/sec: 406.53\n",
            "INFO:tensorflow:loss = 32497172000000.0, step = 31976 (0.249 sec)\n",
            "INFO:tensorflow:global_step/sec: 415.67\n",
            "INFO:tensorflow:loss = 31548070000000.0, step = 32076 (0.237 sec)\n",
            "INFO:tensorflow:global_step/sec: 428.979\n",
            "INFO:tensorflow:loss = 21439550000000.0, step = 32176 (0.234 sec)\n",
            "INFO:tensorflow:global_step/sec: 459.32\n",
            "INFO:tensorflow:loss = 21935482000000.0, step = 32276 (0.215 sec)\n",
            "INFO:tensorflow:global_step/sec: 409.516\n",
            "INFO:tensorflow:loss = 28151367000000.0, step = 32376 (0.247 sec)\n",
            "INFO:tensorflow:global_step/sec: 422.988\n",
            "INFO:tensorflow:loss = 31779296000000.0, step = 32476 (0.234 sec)\n",
            "INFO:tensorflow:Saving checkpoints for 32550 into outdir/model.ckpt.\n",
            "INFO:tensorflow:Loss for final step: 4839739000000.0.\n"
          ],
          "name": "stdout"
        },
        {
          "output_type": "execute_result",
          "data": {
            "text/plain": [
              "<tensorflow_estimator.python.estimator.canned.linear.LinearRegressor at 0x7fab7d27d8d0>"
            ]
          },
          "metadata": {
            "tags": []
          },
          "execution_count": 24
        }
      ]
    },
    {
      "cell_type": "code",
      "metadata": {
        "id": "zP5x0R86f-vL"
      },
      "source": [
        "#input testing function\n",
        "def test_input_fn():\n",
        "  feature={'sqft_living':[1500,1800],\n",
        "           'floors':[1,2]}\n",
        "  return feature"
      ],
      "execution_count": null,
      "outputs": []
    },
    {
      "cell_type": "code",
      "metadata": {
        "id": "16e6Wc_jrMhv",
        "outputId": "dd1af376-6cc0-4267-9431-d5f40451be90",
        "colab": {
          "base_uri": "https://localhost:8080/",
          "height": 202
        }
      },
      "source": [
        "prediction=model.predict(test_input_fn)\n",
        "print(next(prediction))\n",
        "print(next(prediction))\n",
        "print(next(prediction))\n",
        "print(next(prediction))"
      ],
      "execution_count": null,
      "outputs": [
        {
          "output_type": "stream",
          "text": [
            "WARNING:tensorflow:Input graph does not use tf.data.Dataset or contain a QueueRunner. That means predict yields forever. This is probably a mistake.\n",
            "INFO:tensorflow:Calling model_fn.\n",
            "INFO:tensorflow:Done calling model_fn.\n",
            "INFO:tensorflow:Graph was finalized.\n",
            "INFO:tensorflow:Restoring parameters from outdir/model.ckpt-32550\n",
            "INFO:tensorflow:Running local_init_op.\n",
            "INFO:tensorflow:Done running local_init_op.\n",
            "{'predictions': array([101147.484], dtype=float32)}\n",
            "{'predictions': array([121417.38], dtype=float32)}\n",
            "{'predictions': array([101147.484], dtype=float32)}\n",
            "{'predictions': array([121417.38], dtype=float32)}\n"
          ],
          "name": "stdout"
        }
      ]
    },
    {
      "cell_type": "code",
      "metadata": {
        "id": "m8WV-DNarMBX"
      },
      "source": [
        ""
      ],
      "execution_count": null,
      "outputs": []
    },
    {
      "cell_type": "code",
      "metadata": {
        "id": "-9g4pv6qf-5i"
      },
      "source": [
        ""
      ],
      "execution_count": null,
      "outputs": []
    },
    {
      "cell_type": "code",
      "metadata": {
        "id": "p6NySIUfUWmZ"
      },
      "source": [
        ""
      ],
      "execution_count": null,
      "outputs": []
    },
    {
      "cell_type": "code",
      "metadata": {
        "id": "WZaNBISsUWqR"
      },
      "source": [
        ""
      ],
      "execution_count": null,
      "outputs": []
    },
    {
      "cell_type": "code",
      "metadata": {
        "id": "tqPwYQFbUWsH"
      },
      "source": [
        ""
      ],
      "execution_count": null,
      "outputs": []
    },
    {
      "cell_type": "code",
      "metadata": {
        "id": "WQeEwiI4UWv7"
      },
      "source": [
        ""
      ],
      "execution_count": null,
      "outputs": []
    },
    {
      "cell_type": "code",
      "metadata": {
        "id": "ZgBYZ8WBTLIQ"
      },
      "source": [
        ""
      ],
      "execution_count": null,
      "outputs": []
    },
    {
      "cell_type": "code",
      "metadata": {
        "id": "a4eYS_J0TLMN"
      },
      "source": [
        ""
      ],
      "execution_count": null,
      "outputs": []
    }
  ]
}